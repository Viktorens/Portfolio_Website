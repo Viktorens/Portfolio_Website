{
 "cells": [
  {
   "cell_type": "code",
   "execution_count": 42,
   "metadata": {},
   "outputs": [
    {
     "data": {
      "text/plain": [
       "['#d4e0e6', '#93706f']"
      ]
     },
     "execution_count": 42,
     "metadata": {},
     "output_type": "execute_result"
    },
    {
     "data": {
      "image/png": "[encoded data removed]",
      "text/plain": [
       "<Figure size 576x432 with 1 Axes>"
      ]
     },
     "metadata": {},
     "output_type": "display_data"
    }
   ],
   "source": [
    "from sklearn.cluster import KMeans\n",
    "import matplotlib.pyplot as plt\n",
    "import numpy as np\n",
    "import cv2\n",
    "from collections import Counter\n",
    "from skimage.color import rgb2lab, deltaE_cie76\n",
    "import os\n",
    "import json\n",
    "\n",
    "%matplotlib inline\n",
    "\n",
    "# image = cv2.imread('img/backgroundPicture.jpg')\n",
    "# print(\"The type of this input is {}\".format(type(image)))\n",
    "# print(\"Shape: {}\".format(image.shape))\n",
    "# plt.imshow(image)\n",
    "\n",
    "# image = cv2.cvtColor(image, cv2.COLOR_BGR2RGB)\n",
    "# plt.imshow(image)\n",
    "\n",
    "# gray_image = cv2.cvtColor(image, cv2.COLOR_BGR2GRAY)\n",
    "# plt.imshow(gray_image, cmap='gray')\n",
    "\n",
    "\n",
    "# resized_image = cv2.resize(image, (1200, 600))\n",
    "# plt.imshow(resized_image)\n",
    "\n",
    "def RGB2HEX(color):\n",
    "    return \"#{:02x}{:02x}{:02x}\".format(int(color[0]), int(color[1]), int(color[2]))\n",
    "\n",
    "\n",
    "def get_image(image_path):\n",
    "    image = cv2.imread(image_path)\n",
    "    image = cv2.cvtColor(image, cv2.COLOR_BGR2RGB)\n",
    "    return image\n",
    "\n",
    "\n",
    "def get_colors(image, number_of_colors, show_chart):\n",
    "\n",
    "    modified_image = cv2.resize(image, (600, 400), interpolation = cv2.INTER_AREA)\n",
    "    modified_image = modified_image.reshape(modified_image.shape[0]*modified_image.shape[1], 3)\n",
    "\n",
    "    clf = KMeans(n_clusters = number_of_colors)\n",
    "    labels = clf.fit_predict(modified_image)\n",
    "\n",
    "    counts = Counter(labels)\n",
    "\n",
    "    center_colors = clf.cluster_centers_\n",
    "    # We get ordered colors by iterating through the keys\n",
    "    ordered_colors = [center_colors[i] for i in counts.keys()]\n",
    "    hex_colors = [RGB2HEX(ordered_colors[i]) for i in counts.keys()]\n",
    "    rgb_colors = [ordered_colors[i] for i in counts.keys()]\n",
    "\n",
    "    if (show_chart):\n",
    "        plt.figure(figsize = (8, 6))\n",
    "        plt.pie(counts.values(), labels = hex_colors, colors = hex_colors, textprops={'color':\"w\"})\n",
    "        \n",
    "    # for el in range(len(hex_colors)):\n",
    "    #     print('Color ' + str(el + 1) + ': ' + hex_colors[el])\n",
    "\n",
    "    with open('data.json', 'w') as f:\n",
    "        json.dump(hex_colors, f)\n",
    "\n",
    "    return hex_colors\n",
    "\n",
    "\n",
    "get_colors(get_image('img/backgroundPicture.jpg'), 2, True)"
   ]
  }
 ],
 "metadata": {
  "interpreter": {
   "hash": "6a718110eee8e7ccea5bd9856b5fcf01b3fec94d9a6dfa9c0c7ac69c5ea854db"
  },
  "kernelspec": {
   "display_name": "Python 3.9.13 64-bit (windows store)",
   "language": "python",
   "name": "python3"
  },
  "language_info": {
   "codemirror_mode": {
    "name": "ipython",
    "version": 3
   },
   "file_extension": ".py",
   "mimetype": "text/x-python",
   "name": "python",
   "nbconvert_exporter": "python",
   "pygments_lexer": "ipython3",
   "version": "3.9.13"
  },
  "orig_nbformat": 4
 },
 "nbformat": 4,
 "nbformat_minor": 2
}
