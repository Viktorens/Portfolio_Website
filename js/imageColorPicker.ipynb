{
    "cells": [
        {
            "cell_type": "code",
            "execution_count": 7,
            "metadata": {},
            "outputs": [
                {
                    "data": {
                        "text/plain": [
                            "(['#d4e0e5', '#8d6a69'],\n",
                            " [array([212.83014125, 224.11817145, 229.72628398]),\n",
                            "  array([141.82943186, 106.16939815, 105.66793229])])"
                        ]
                    },
                    "execution_count": 7,
                    "metadata": {},
                    "output_type": "execute_result"
                },
                {
                    "data": {
                        "image/png": "[encoded data removed]",
                        "text/plain": [
                            "<Figure size 576x432 with 1 Axes>"
                        ]
                    },
                    "metadata": {},
                    "output_type": "display_data"
                }
            ],
            "source": [
                "from sklearn.cluster import KMeans\n",
                "import matplotlib.pyplot as plt\n",
                "import cv2\n",
                "from collections import Counter\n",
                "import json\n",
                "\n",
                "%matplotlib inline\n",
                "\n",
                "def rgbToHex(color):\n",
                "    \"\"\"\n",
                "   Converts RGB to HEX\n",
                "\n",
                "   :param numpy.ndarray color: color that needs to be converted\n",
                "   :return: HEX color code as string\n",
                "   \"\"\"\n",
                "    return \"#{:02x}{:02x}{:02x}\".format(int(color[0]), int(color[1]), int(color[2]))\n",
                "\n",
                "\n",
                "def get_image(image_path):\n",
                "    \"\"\"\n",
                "   Converts Image to RGB\n",
                "\n",
                "   :param string image_path: path of the image\n",
                "   :return: the image\n",
                "   \"\"\"\n",
                "    image = cv2.imread(image_path)\n",
                "    image = cv2.cvtColor(image, cv2.COLOR_BGR2RGB)\n",
                "    return image\n",
                "\n",
                "\n",
                "def get_colors(image, number_of_colors, show_chart):\n",
                "    \"\"\"\n",
                "   Finds and shows colors from an image in HEX and RGB\n",
                "\n",
                "   :param numpy.ndarray image: image itself\n",
                "   :param int number_of_colors: number of colors\n",
                "   :param boolean show_chart: show chart\n",
                "   :return: the HEX and RGB color codes\n",
                "   \"\"\"\n",
                "    # resizing image to reduce run time\n",
                "    modified_image = cv2.resize(image, (1000, 1000), interpolation = cv2.INTER_AREA)\n",
                "    modified_image = modified_image.reshape(modified_image.shape[0]*modified_image.shape[1], 3)\n",
                "\n",
                "    # KMeans algorithm creates clusters of colors\n",
                "    colorCluster = KMeans(n_clusters = number_of_colors)\n",
                "    labels = colorCluster.fit_predict(modified_image)\n",
                "\n",
                "    # counting number of labels\n",
                "    counts = Counter(labels)\n",
                "    center_colors = colorCluster.cluster_centers_\n",
                "\n",
                "    # We get ordered colors by iterating through the keys\n",
                "    ordered_colors = [center_colors[i] for i in counts.keys()]\n",
                "    hex_colors = [rgbToHex(ordered_colors[i]) for i in counts.keys()]\n",
                "    rgb_colors = [ordered_colors[i] for i in counts.keys()]\n",
                "\n",
                "    # showing pie chart\n",
                "    if (show_chart):\n",
                "        plt.figure(figsize = (8, 6))\n",
                "        plt.pie(counts.values(), labels = hex_colors, colors = hex_colors, textprops={'color':\"w\"})\n",
                "\n",
                "    # saving the HEX color codes in a json file\n",
                "    with open('colors.json', 'w') as f:\n",
                "        json.dump(hex_colors, f)\n",
                "\n",
                "    return hex_colors, rgb_colors\n",
                "\n",
                "get_colors(get_image('../img/backgroundPicture.jpg'), 2, True)"
            ]
        }
    ],
    "metadata": {
        "interpreter": {
            "hash": "6a718110eee8e7ccea5bd9856b5fcf01b3fec94d9a6dfa9c0c7ac69c5ea854db"
        },
        "kernelspec": {
            "display_name": "Python 3.9.13 64-bit (windows store)",
            "language": "python",
            "name": "python3"
        },
        "language_info": {
            "codemirror_mode": {
                "name": "ipython",
                "version": 3
            },
            "file_extension": ".py",
            "mimetype": "text/x-python",
            "name": "python",
            "nbconvert_exporter": "python",
            "pygments_lexer": "ipython3",
            "version": "3.9.13"
        },
        "orig_nbformat": 4
    },
    "nbformat": 4,
    "nbformat_minor": 2
}
